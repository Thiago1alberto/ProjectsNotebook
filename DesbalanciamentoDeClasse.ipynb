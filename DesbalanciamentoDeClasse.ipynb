{
  "nbformat": 4,
  "nbformat_minor": 0,
  "metadata": {
    "colab": {
      "private_outputs": true,
      "provenance": [],
      "authorship_tag": "ABX9TyOTKxF8HyKCX8bALCpUabl5",
      "include_colab_link": true
    },
    "kernelspec": {
      "name": "python3",
      "display_name": "Python 3"
    },
    "language_info": {
      "name": "python"
    }
  },
  "cells": [
    {
      "cell_type": "markdown",
      "metadata": {
        "id": "view-in-github",
        "colab_type": "text"
      },
      "source": [
        "<a href=\"https://colab.research.google.com/github/Thiago1alberto/ProjetosAnaliseDeDados/blob/main/DesbalanciamentoDeClasse.ipynb\" target=\"_parent\"><img src=\"https://colab.research.google.com/assets/colab-badge.svg\" alt=\"Open In Colab\"/></a>"
      ]
    },
    {
      "cell_type": "code",
      "execution_count": null,
      "metadata": {
        "id": "AWjvq6VkrBUP"
      },
      "outputs": [],
      "source": [
        "import numpy as np\n",
        "import pandas as pd\n",
        "from sklearn.linear_model import LogisticRegression\n",
        "from sklearn.model_selection import train_test_split\n",
        "from sklearn.metrics import accuracy_score, confusion_matrix, classification_report\n",
        "from imblearn.over_sampling import SMOTE\n",
        "from imblearn.under_sampling import NearMiss\n",
        "import seaborn as sns"
      ]
    },
    {
      "cell_type": "code",
      "source": [
        "from google.colab import drive\n",
        "drive.mount ('/content/drive')"
      ],
      "metadata": {
        "id": "Hs5ZbDt-sfjh"
      },
      "execution_count": null,
      "outputs": []
    },
    {
      "cell_type": "code",
      "source": [
        "df = pd.read_csv('/content/drive/MyDrive/dataSet/bank marketing/bank/bank-full.csv', sep=';')"
      ],
      "metadata": {
        "id": "QdlZDnFCvBuy"
      },
      "execution_count": null,
      "outputs": []
    },
    {
      "cell_type": "code",
      "source": [
        "df.info()"
      ],
      "metadata": {
        "id": "5njGOQq2wglP"
      },
      "execution_count": null,
      "outputs": []
    },
    {
      "cell_type": "code",
      "source": [
        "df.head()"
      ],
      "metadata": {
        "id": "9Ogjo5qOwwYW"
      },
      "execution_count": null,
      "outputs": []
    },
    {
      "cell_type": "code",
      "source": [
        "df['default'] = df['default'].map({'no':0, 'yes':1})\n",
        "df['housing'] = df['housing'].map({'no':0, 'yes':1})\n",
        "df['loan'] = df['loan'].map({'no':0, 'yes':1})\n",
        "df['y'] = df['y'].map({'no':0, 'yes':1})\n",
        "df.education = df.education.map({'primary':0, 'secundary':1, 'tertiary':2})\n",
        "df.poutcome = df.poutcome.map({'unknown':0, 'failure':1, 'other':2, 'success':3})\n",
        "df.contact = df.contact.map({'cellular':0, 'unknown':1, 'telephone':2})\n",
        "df.month = pd.to_datetime(df.month, format= '%b').dt.month"
      ],
      "metadata": {
        "id": "ZP52922IxXJ2"
      },
      "execution_count": null,
      "outputs": []
    },
    {
      "cell_type": "code",
      "source": [
        "df.head()"
      ],
      "metadata": {
        "id": "C7rtuGFoHgga"
      },
      "execution_count": null,
      "outputs": []
    },
    {
      "cell_type": "code",
      "source": [
        "df.isnull().sum()"
      ],
      "metadata": {
        "id": "YJcFIOAUHoEw"
      },
      "execution_count": null,
      "outputs": []
    },
    {
      "cell_type": "code",
      "source": [
        "df.dropna(inplace=True)"
      ],
      "metadata": {
        "id": "Jw_wi4gyH2R2"
      },
      "execution_count": null,
      "outputs": []
    },
    {
      "cell_type": "code",
      "source": [
        "df.head()"
      ],
      "metadata": {
        "id": "wgySvu_mH8lG"
      },
      "execution_count": null,
      "outputs": []
    },
    {
      "cell_type": "code",
      "source": [
        "df = pd.get_dummies(df)"
      ],
      "metadata": {
        "id": "wnSbbOXjI18I"
      },
      "execution_count": null,
      "outputs": []
    },
    {
      "cell_type": "code",
      "source": [
        "df.head()"
      ],
      "metadata": {
        "id": "-YXSh0LBJBif"
      },
      "execution_count": null,
      "outputs": []
    },
    {
      "cell_type": "code",
      "source": [
        "df.y.value_counts()"
      ],
      "metadata": {
        "id": "oHU_ukd3JcQh"
      },
      "execution_count": null,
      "outputs": []
    },
    {
      "cell_type": "code",
      "source": [
        "ax = sns.countplot(x=\"y\", data =df)"
      ],
      "metadata": {
        "id": "FVPo90YOJlxo"
      },
      "execution_count": null,
      "outputs": []
    },
    {
      "cell_type": "markdown",
      "source": [
        "##Classificador\n"
      ],
      "metadata": {
        "id": "7lt-xGweKJgh"
      }
    },
    {
      "cell_type": "code",
      "source": [
        "lr = LogisticRegression()"
      ],
      "metadata": {
        "id": "lbGq-MUdKCdZ"
      },
      "execution_count": null,
      "outputs": []
    },
    {
      "cell_type": "code",
      "source": [
        "x = df.drop('y', axis=1)\n",
        "y = df.y"
      ],
      "metadata": {
        "id": "V4z5M8WGKSC6"
      },
      "execution_count": null,
      "outputs": []
    },
    {
      "cell_type": "markdown",
      "source": [
        "##treino e teste"
      ],
      "metadata": {
        "id": "B1dRDfSpKubH"
      }
    },
    {
      "cell_type": "code",
      "source": [
        "x_train, x_test, y_train, y_test = train_test_split(x, y, random_state =1, stratify=y)\n",
        "# x_train = recebe os dados de treino\n",
        "# x_test = recebe os dados de test\n",
        "# y_train = recebe as classes de treino\n",
        "# y_test = recebe as classes de test\n",
        "# stratify=y == ELE EMBARALHA OS VALORES\n",
        "# random_state =1 == ALEATORIEDADE E VERIFICAR O RESULTADO"
      ],
      "metadata": {
        "id": "KnVf85TsKtlH"
      },
      "execution_count": null,
      "outputs": []
    },
    {
      "cell_type": "code",
      "source": [
        "lr.fit(x_train, y_train)"
      ],
      "metadata": {
        "id": "i5WpCWJsLu0S"
      },
      "execution_count": null,
      "outputs": []
    },
    {
      "cell_type": "code",
      "source": [
        "y_pred = lr.predict(x_test)"
      ],
      "metadata": {
        "id": "oG8n6ZzNM1Q5"
      },
      "execution_count": null,
      "outputs": []
    },
    {
      "cell_type": "code",
      "source": [
        "accuracy_score(y_test, y_pred)"
      ],
      "metadata": {
        "id": "PG_kHEjxM8co"
      },
      "execution_count": null,
      "outputs": []
    },
    {
      "cell_type": "code",
      "source": [
        "print(classification_report(y_test, y_pred))"
      ],
      "metadata": {
        "id": "h3QZb5OeNFUH"
      },
      "execution_count": null,
      "outputs": []
    },
    {
      "cell_type": "markdown",
      "source": [
        "recall muito baixo, ou seja, mostra o desbalanceamento ta enviezado\n",
        "aprendendo muito com a classe com mais exemplo\n"
      ],
      "metadata": {
        "id": "Q1g_-49eNQ2v"
      }
    },
    {
      "cell_type": "code",
      "source": [
        "print(pd.crosstab(y_test, y_pred, rownames=['Real'], colnames=['predito'], margins=True))"
      ],
      "metadata": {
        "id": "RJjkQjINNpIv"
      },
      "execution_count": null,
      "outputs": []
    },
    {
      "cell_type": "markdown",
      "source": [
        "# **NearMiss**"
      ],
      "metadata": {
        "id": "UUOLq1sWPj1g"
      }
    },
    {
      "cell_type": "markdown",
      "source": [
        "metodo de undersampling\n",
        "iguala as quantidades de amostra das classes"
      ],
      "metadata": {
        "id": "rUSkM6ULPyFP"
      }
    },
    {
      "cell_type": "code",
      "source": [
        "nr = NearMiss()"
      ],
      "metadata": {
        "id": "hceLq2d1PwSH"
      },
      "execution_count": null,
      "outputs": []
    },
    {
      "cell_type": "code",
      "source": [
        "x, y = nr.fit_resample(x,y)"
      ],
      "metadata": {
        "id": "-wzaDuVaPi0L"
      },
      "execution_count": null,
      "outputs": []
    },
    {
      "cell_type": "code",
      "source": [
        "ax = sns.countplot(x=y)"
      ],
      "metadata": {
        "id": "6XHQqz3QQR8R"
      },
      "execution_count": null,
      "outputs": []
    },
    {
      "cell_type": "markdown",
      "source": [
        "aplicado o NearMiss ele reduziu a classe majoritaria e igualo com a minoritaria"
      ],
      "metadata": {
        "id": "w0H0xt4ZQiTY"
      }
    },
    {
      "cell_type": "code",
      "source": [
        "x_train, x_test, y_train, y_test = train_test_split(x, y, random_state =1, stratify=y)\n"
      ],
      "metadata": {
        "id": "7LPYSW8wQuWX"
      },
      "execution_count": null,
      "outputs": []
    },
    {
      "cell_type": "code",
      "source": [
        "lr = LogisticRegression()"
      ],
      "metadata": {
        "id": "Mk9lFKa9Q1mO"
      },
      "execution_count": null,
      "outputs": []
    },
    {
      "cell_type": "code",
      "source": [
        "lr.fit(x_train, y_train)"
      ],
      "metadata": {
        "id": "ZpLwVPUoQ5SH"
      },
      "execution_count": null,
      "outputs": []
    },
    {
      "cell_type": "code",
      "source": [
        "y_pred = lr.predict(x_test)"
      ],
      "metadata": {
        "id": "jb0Q8sFnQ9T3"
      },
      "execution_count": null,
      "outputs": []
    },
    {
      "cell_type": "code",
      "source": [
        "accuracy_score(y_test, y_pred)"
      ],
      "metadata": {
        "id": "cKtzWzFlRAxw"
      },
      "execution_count": null,
      "outputs": []
    },
    {
      "cell_type": "code",
      "source": [
        "print(classification_report(y_test, y_pred))"
      ],
      "metadata": {
        "id": "xZstEpzMRDf4"
      },
      "execution_count": null,
      "outputs": []
    },
    {
      "cell_type": "code",
      "source": [
        "print(pd.crosstab(y_test, y_pred, rownames=['Real'], colnames=['predito'], margins=True))"
      ],
      "metadata": {
        "id": "xJJDzCHqRGRf"
      },
      "execution_count": null,
      "outputs": []
    },
    {
      "cell_type": "markdown",
      "source": [
        "# **SMOTE**"
      ],
      "metadata": {
        "id": "mEXLfFCiTXi3"
      }
    },
    {
      "cell_type": "code",
      "source": [
        "x = df.drop(\"y\", axis = 1)\n",
        "y = df.y"
      ],
      "metadata": {
        "id": "AZgAcLHETW2v"
      },
      "execution_count": null,
      "outputs": []
    },
    {
      "cell_type": "code",
      "source": [
        "np.bincount(y)"
      ],
      "metadata": {
        "id": "_KGdMAxsT5Ar"
      },
      "execution_count": null,
      "outputs": []
    },
    {
      "cell_type": "code",
      "source": [
        "#sampling_strategy=0.5 gera até 50% de dados da classe majoritaria\n",
        "smt = SMOTE()"
      ],
      "metadata": {
        "id": "bp_tI4ZeT-i2"
      },
      "execution_count": null,
      "outputs": []
    },
    {
      "cell_type": "code",
      "source": [
        "x, y = smt.fit_resample(x,y)"
      ],
      "metadata": {
        "id": "O_5e6bA7UOPI"
      },
      "execution_count": null,
      "outputs": []
    },
    {
      "cell_type": "code",
      "source": [
        "np.bincount(y)"
      ],
      "metadata": {
        "id": "kL4zA2UoUm0N"
      },
      "execution_count": null,
      "outputs": []
    },
    {
      "cell_type": "code",
      "source": [
        "x_train, x_test, y_train, y_test = train_test_split(x, y, random_state =1, stratify=y)"
      ],
      "metadata": {
        "id": "OskhsZNjUtXu"
      },
      "execution_count": null,
      "outputs": []
    },
    {
      "cell_type": "code",
      "source": [
        "lr = LogisticRegression()"
      ],
      "metadata": {
        "id": "DAPU6WF5U7RJ"
      },
      "execution_count": null,
      "outputs": []
    },
    {
      "cell_type": "code",
      "source": [
        "lr.fit(x_train, y_train)"
      ],
      "metadata": {
        "id": "IALf_ZajVM2B"
      },
      "execution_count": null,
      "outputs": []
    },
    {
      "cell_type": "code",
      "source": [
        "y_pred = lr.predict(x_test)"
      ],
      "metadata": {
        "id": "deBx0v8kVUW6"
      },
      "execution_count": null,
      "outputs": []
    },
    {
      "cell_type": "code",
      "source": [
        "accuracy_score(y_test, y_pred)"
      ],
      "metadata": {
        "id": "7MQrX-mFVe7t"
      },
      "execution_count": null,
      "outputs": []
    },
    {
      "cell_type": "code",
      "source": [
        "print(classification_report(y_test, y_pred))"
      ],
      "metadata": {
        "id": "kihOkJ8-VkIP"
      },
      "execution_count": null,
      "outputs": []
    },
    {
      "cell_type": "code",
      "source": [
        "print(pd.crosstab(y_test,y_pred, rownames=['Real'], colnames=['predito'], margins=True))"
      ],
      "metadata": {
        "id": "kkEAyOL4Vpm7"
      },
      "execution_count": null,
      "outputs": []
    },
    {
      "cell_type": "code",
      "source": [],
      "metadata": {
        "id": "IjnPiV_aWF6a"
      },
      "execution_count": null,
      "outputs": []
    }
  ]
}