{
  "nbformat": 4,
  "nbformat_minor": 0,
  "metadata": {
    "colab": {
      "provenance": [],
      "include_colab_link": true
    },
    "kernelspec": {
      "name": "python3",
      "display_name": "Python 3"
    },
    "language_info": {
      "name": "python"
    }
  },
  "cells": [
    {
      "cell_type": "markdown",
      "metadata": {
        "id": "view-in-github",
        "colab_type": "text"
      },
      "source": [
        "<a href=\"https://colab.research.google.com/github/Thiago1alberto/ProjetosAnaliseDeDados/blob/main/Petr4_previs%C3%A3o.ipynb\" target=\"_parent\"><img src=\"https://colab.research.google.com/assets/colab-badge.svg\" alt=\"Open In Colab\"/></a>"
      ]
    },
    {
      "cell_type": "markdown",
      "source": [
        "## Importando base de dados:"
      ],
      "metadata": {
        "id": "elvfueP9kriZ"
      }
    },
    {
      "cell_type": "code",
      "execution_count": 1,
      "metadata": {
        "id": "8ObjuIafR9MR"
      },
      "outputs": [],
      "source": [
        "import pandas as pd\n",
        "import numpy as np\n",
        "import matplotlib.pyplot as plt\n",
        "import os\n",
        "import datetime as dt\n",
        "from sklearn.preprocessing import MinMaxScaler\n",
        "from sklearn.model_selection import TimeSeriesSplit, cross_val_score\n",
        "from tensorflow.keras.callbacks import ModelCheckpoint\n",
        "from tensorflow.keras.layers import Dense, Dropout, InputLayer, LSTM\n",
        "from tensorflow.keras.losses import MeanSquaredError\n",
        "from tensorflow.keras.metrics import RootMeanSquaredError\n",
        "from tensorflow.keras.models import load_model, Sequential\n",
        "from tensorflow.keras.utils import plot_model\n",
        "from sklearn.metrics import mean_squared_error\n",
        "import math\n",
        "import seaborn as sns"
      ]
    },
    {
      "cell_type": "code",
      "source": [
        "from google.colab import drive\n",
        "drive.mount('/content/drive')"
      ],
      "metadata": {
        "id": "MPjgmnG9Xuki",
        "colab": {
          "base_uri": "https://localhost:8080/"
        },
        "outputId": "67f93645-6d4e-490a-9b63-3162574d5593"
      },
      "execution_count": null,
      "outputs": [
        {
          "output_type": "stream",
          "name": "stdout",
          "text": [
            "Drive already mounted at /content/drive; to attempt to forcibly remount, call drive.mount(\"/content/drive\", force_remount=True).\n"
          ]
        }
      ]
    },
    {
      "cell_type": "code",
      "source": [
        "b3_stocks_path = '/content/drive/MyDrive/dataSet/ibovespa/b3_stocks_1994_2020.csv'\n",
        "selic_path = '/content/drive/MyDrive/dataSet/ibovespa/selic.csv'\n",
        "usd2brl_path = '/content/drive/MyDrive/dataSet/ibovespa/usd2brl.csv'"
      ],
      "metadata": {
        "id": "PdevbYdjyXYn"
      },
      "execution_count": null,
      "outputs": []
    },
    {
      "cell_type": "markdown",
      "source": [
        "## Pré-processamento dos dados:"
      ],
      "metadata": {
        "id": "D1aY9x36k0Zj"
      }
    },
    {
      "cell_type": "code",
      "source": [
        "petr4_df = b3_stocks_data[b3_stocks_data['ticker'] == 'PETR4']\n",
        "petr4_df.head()"
      ],
      "metadata": {
        "colab": {
          "base_uri": "https://localhost:8080/",
          "height": 206
        },
        "id": "Y9A6K4Sc1uv3",
        "outputId": "b1de19b5-5345-47ad-89af-badcfc6d3ebd"
      },
      "execution_count": null,
      "outputs": [
        {
          "output_type": "execute_result",
          "data": {
            "text/plain": [
              "          datetime ticker   open  close   high     low      volume\n",
              "209606  1998-03-16  PETR4  276.0  275.0  276.0  273.99  27078933.9\n",
              "209805  1998-03-17  PETR4  275.0  277.0  278.0  274.50  41049029.3\n",
              "210027  1998-03-18  PETR4  277.0  275.5  279.0  275.00  40506405.9\n",
              "210261  1998-03-19  PETR4  275.5  275.5  277.0  272.00  29801256.4\n",
              "210497  1998-03-20  PETR4  277.0  279.0  280.0  276.00  26713421.3"
            ],
            "text/html": [
              "\n",
              "  <div id=\"df-b1838c91-9393-4bf8-a18a-909480f0377b\" class=\"colab-df-container\">\n",
              "    <div>\n",
              "<style scoped>\n",
              "    .dataframe tbody tr th:only-of-type {\n",
              "        vertical-align: middle;\n",
              "    }\n",
              "\n",
              "    .dataframe tbody tr th {\n",
              "        vertical-align: top;\n",
              "    }\n",
              "\n",
              "    .dataframe thead th {\n",
              "        text-align: right;\n",
              "    }\n",
              "</style>\n",
              "<table border=\"1\" class=\"dataframe\">\n",
              "  <thead>\n",
              "    <tr style=\"text-align: right;\">\n",
              "      <th></th>\n",
              "      <th>datetime</th>\n",
              "      <th>ticker</th>\n",
              "      <th>open</th>\n",
              "      <th>close</th>\n",
              "      <th>high</th>\n",
              "      <th>low</th>\n",
              "      <th>volume</th>\n",
              "    </tr>\n",
              "  </thead>\n",
              "  <tbody>\n",
              "    <tr>\n",
              "      <th>209606</th>\n",
              "      <td>1998-03-16</td>\n",
              "      <td>PETR4</td>\n",
              "      <td>276.0</td>\n",
              "      <td>275.0</td>\n",
              "      <td>276.0</td>\n",
              "      <td>273.99</td>\n",
              "      <td>27078933.9</td>\n",
              "    </tr>\n",
              "    <tr>\n",
              "      <th>209805</th>\n",
              "      <td>1998-03-17</td>\n",
              "      <td>PETR4</td>\n",
              "      <td>275.0</td>\n",
              "      <td>277.0</td>\n",
              "      <td>278.0</td>\n",
              "      <td>274.50</td>\n",
              "      <td>41049029.3</td>\n",
              "    </tr>\n",
              "    <tr>\n",
              "      <th>210027</th>\n",
              "      <td>1998-03-18</td>\n",
              "      <td>PETR4</td>\n",
              "      <td>277.0</td>\n",
              "      <td>275.5</td>\n",
              "      <td>279.0</td>\n",
              "      <td>275.00</td>\n",
              "      <td>40506405.9</td>\n",
              "    </tr>\n",
              "    <tr>\n",
              "      <th>210261</th>\n",
              "      <td>1998-03-19</td>\n",
              "      <td>PETR4</td>\n",
              "      <td>275.5</td>\n",
              "      <td>275.5</td>\n",
              "      <td>277.0</td>\n",
              "      <td>272.00</td>\n",
              "      <td>29801256.4</td>\n",
              "    </tr>\n",
              "    <tr>\n",
              "      <th>210497</th>\n",
              "      <td>1998-03-20</td>\n",
              "      <td>PETR4</td>\n",
              "      <td>277.0</td>\n",
              "      <td>279.0</td>\n",
              "      <td>280.0</td>\n",
              "      <td>276.00</td>\n",
              "      <td>26713421.3</td>\n",
              "    </tr>\n",
              "  </tbody>\n",
              "</table>\n",
              "</div>\n",
              "    <div class=\"colab-df-buttons\">\n",
              "\n",
              "  <div class=\"colab-df-container\">\n",
              "    <button class=\"colab-df-convert\" onclick=\"convertToInteractive('df-b1838c91-9393-4bf8-a18a-909480f0377b')\"\n",
              "            title=\"Convert this dataframe to an interactive table.\"\n",
              "            style=\"display:none;\">\n",
              "\n",
              "  <svg xmlns=\"http://www.w3.org/2000/svg\" height=\"24px\" viewBox=\"0 -960 960 960\">\n",
              "    <path d=\"M120-120v-720h720v720H120Zm60-500h600v-160H180v160Zm220 220h160v-160H400v160Zm0 220h160v-160H400v160ZM180-400h160v-160H180v160Zm440 0h160v-160H620v160ZM180-180h160v-160H180v160Zm440 0h160v-160H620v160Z\"/>\n",
              "  </svg>\n",
              "    </button>\n",
              "\n",
              "  <style>\n",
              "    .colab-df-container {\n",
              "      display:flex;\n",
              "      gap: 12px;\n",
              "    }\n",
              "\n",
              "    .colab-df-convert {\n",
              "      background-color: #E8F0FE;\n",
              "      border: none;\n",
              "      border-radius: 50%;\n",
              "      cursor: pointer;\n",
              "      display: none;\n",
              "      fill: #1967D2;\n",
              "      height: 32px;\n",
              "      padding: 0 0 0 0;\n",
              "      width: 32px;\n",
              "    }\n",
              "\n",
              "    .colab-df-convert:hover {\n",
              "      background-color: #E2EBFA;\n",
              "      box-shadow: 0px 1px 2px rgba(60, 64, 67, 0.3), 0px 1px 3px 1px rgba(60, 64, 67, 0.15);\n",
              "      fill: #174EA6;\n",
              "    }\n",
              "\n",
              "    .colab-df-buttons div {\n",
              "      margin-bottom: 4px;\n",
              "    }\n",
              "\n",
              "    [theme=dark] .colab-df-convert {\n",
              "      background-color: #3B4455;\n",
              "      fill: #D2E3FC;\n",
              "    }\n",
              "\n",
              "    [theme=dark] .colab-df-convert:hover {\n",
              "      background-color: #434B5C;\n",
              "      box-shadow: 0px 1px 3px 1px rgba(0, 0, 0, 0.15);\n",
              "      filter: drop-shadow(0px 1px 2px rgba(0, 0, 0, 0.3));\n",
              "      fill: #FFFFFF;\n",
              "    }\n",
              "  </style>\n",
              "\n",
              "    <script>\n",
              "      const buttonEl =\n",
              "        document.querySelector('#df-b1838c91-9393-4bf8-a18a-909480f0377b button.colab-df-convert');\n",
              "      buttonEl.style.display =\n",
              "        google.colab.kernel.accessAllowed ? 'block' : 'none';\n",
              "\n",
              "      async function convertToInteractive(key) {\n",
              "        const element = document.querySelector('#df-b1838c91-9393-4bf8-a18a-909480f0377b');\n",
              "        const dataTable =\n",
              "          await google.colab.kernel.invokeFunction('convertToInteractive',\n",
              "                                                    [key], {});\n",
              "        if (!dataTable) return;\n",
              "\n",
              "        const docLinkHtml = 'Like what you see? Visit the ' +\n",
              "          '<a target=\"_blank\" href=https://colab.research.google.com/notebooks/data_table.ipynb>data table notebook</a>'\n",
              "          + ' to learn more about interactive tables.';\n",
              "        element.innerHTML = '';\n",
              "        dataTable['output_type'] = 'display_data';\n",
              "        await google.colab.output.renderOutput(dataTable, element);\n",
              "        const docLink = document.createElement('div');\n",
              "        docLink.innerHTML = docLinkHtml;\n",
              "        element.appendChild(docLink);\n",
              "      }\n",
              "    </script>\n",
              "  </div>\n",
              "\n",
              "\n",
              "<div id=\"df-196723ec-328a-44b4-aac6-50dab5dad924\">\n",
              "  <button class=\"colab-df-quickchart\" onclick=\"quickchart('df-196723ec-328a-44b4-aac6-50dab5dad924')\"\n",
              "            title=\"Suggest charts.\"\n",
              "            style=\"display:none;\">\n",
              "\n",
              "<svg xmlns=\"http://www.w3.org/2000/svg\" height=\"24px\"viewBox=\"0 0 24 24\"\n",
              "     width=\"24px\">\n",
              "    <g>\n",
              "        <path d=\"M19 3H5c-1.1 0-2 .9-2 2v14c0 1.1.9 2 2 2h14c1.1 0 2-.9 2-2V5c0-1.1-.9-2-2-2zM9 17H7v-7h2v7zm4 0h-2V7h2v10zm4 0h-2v-4h2v4z\"/>\n",
              "    </g>\n",
              "</svg>\n",
              "  </button>\n",
              "\n",
              "<style>\n",
              "  .colab-df-quickchart {\n",
              "      --bg-color: #E8F0FE;\n",
              "      --fill-color: #1967D2;\n",
              "      --hover-bg-color: #E2EBFA;\n",
              "      --hover-fill-color: #174EA6;\n",
              "      --disabled-fill-color: #AAA;\n",
              "      --disabled-bg-color: #DDD;\n",
              "  }\n",
              "\n",
              "  [theme=dark] .colab-df-quickchart {\n",
              "      --bg-color: #3B4455;\n",
              "      --fill-color: #D2E3FC;\n",
              "      --hover-bg-color: #434B5C;\n",
              "      --hover-fill-color: #FFFFFF;\n",
              "      --disabled-bg-color: #3B4455;\n",
              "      --disabled-fill-color: #666;\n",
              "  }\n",
              "\n",
              "  .colab-df-quickchart {\n",
              "    background-color: var(--bg-color);\n",
              "    border: none;\n",
              "    border-radius: 50%;\n",
              "    cursor: pointer;\n",
              "    display: none;\n",
              "    fill: var(--fill-color);\n",
              "    height: 32px;\n",
              "    padding: 0;\n",
              "    width: 32px;\n",
              "  }\n",
              "\n",
              "  .colab-df-quickchart:hover {\n",
              "    background-color: var(--hover-bg-color);\n",
              "    box-shadow: 0 1px 2px rgba(60, 64, 67, 0.3), 0 1px 3px 1px rgba(60, 64, 67, 0.15);\n",
              "    fill: var(--button-hover-fill-color);\n",
              "  }\n",
              "\n",
              "  .colab-df-quickchart-complete:disabled,\n",
              "  .colab-df-quickchart-complete:disabled:hover {\n",
              "    background-color: var(--disabled-bg-color);\n",
              "    fill: var(--disabled-fill-color);\n",
              "    box-shadow: none;\n",
              "  }\n",
              "\n",
              "  .colab-df-spinner {\n",
              "    border: 2px solid var(--fill-color);\n",
              "    border-color: transparent;\n",
              "    border-bottom-color: var(--fill-color);\n",
              "    animation:\n",
              "      spin 1s steps(1) infinite;\n",
              "  }\n",
              "\n",
              "  @keyframes spin {\n",
              "    0% {\n",
              "      border-color: transparent;\n",
              "      border-bottom-color: var(--fill-color);\n",
              "      border-left-color: var(--fill-color);\n",
              "    }\n",
              "    20% {\n",
              "      border-color: transparent;\n",
              "      border-left-color: var(--fill-color);\n",
              "      border-top-color: var(--fill-color);\n",
              "    }\n",
              "    30% {\n",
              "      border-color: transparent;\n",
              "      border-left-color: var(--fill-color);\n",
              "      border-top-color: var(--fill-color);\n",
              "      border-right-color: var(--fill-color);\n",
              "    }\n",
              "    40% {\n",
              "      border-color: transparent;\n",
              "      border-right-color: var(--fill-color);\n",
              "      border-top-color: var(--fill-color);\n",
              "    }\n",
              "    60% {\n",
              "      border-color: transparent;\n",
              "      border-right-color: var(--fill-color);\n",
              "    }\n",
              "    80% {\n",
              "      border-color: transparent;\n",
              "      border-right-color: var(--fill-color);\n",
              "      border-bottom-color: var(--fill-color);\n",
              "    }\n",
              "    90% {\n",
              "      border-color: transparent;\n",
              "      border-bottom-color: var(--fill-color);\n",
              "    }\n",
              "  }\n",
              "</style>\n",
              "\n",
              "  <script>\n",
              "    async function quickchart(key) {\n",
              "      const quickchartButtonEl =\n",
              "        document.querySelector('#' + key + ' button');\n",
              "      quickchartButtonEl.disabled = true;  // To prevent multiple clicks.\n",
              "      quickchartButtonEl.classList.add('colab-df-spinner');\n",
              "      try {\n",
              "        const charts = await google.colab.kernel.invokeFunction(\n",
              "            'suggestCharts', [key], {});\n",
              "      } catch (error) {\n",
              "        console.error('Error during call to suggestCharts:', error);\n",
              "      }\n",
              "      quickchartButtonEl.classList.remove('colab-df-spinner');\n",
              "      quickchartButtonEl.classList.add('colab-df-quickchart-complete');\n",
              "    }\n",
              "    (() => {\n",
              "      let quickchartButtonEl =\n",
              "        document.querySelector('#df-196723ec-328a-44b4-aac6-50dab5dad924 button');\n",
              "      quickchartButtonEl.style.display =\n",
              "        google.colab.kernel.accessAllowed ? 'block' : 'none';\n",
              "    })();\n",
              "  </script>\n",
              "</div>\n",
              "    </div>\n",
              "  </div>\n"
            ]
          },
          "metadata": {},
          "execution_count": 108
        }
      ]
    },
    {
      "cell_type": "code",
      "source": [
        "petr4_df_copy = petr4_df.copy()\n",
        "\n",
        "petr4_df_copy['datetime'] = pd.to_datetime(petr4_df_copy['datetime'])\n",
        "petr4_df_copy['datetime'] = petr4_df_copy['datetime'].dt.strftime('%d/%m/%Y')\n",
        "\n",
        "petr4_df_copy.head()"
      ],
      "metadata": {
        "colab": {
          "base_uri": "https://localhost:8080/",
          "height": 263
        },
        "id": "ZxxUUGKP4Ayw",
        "outputId": "50a13c42-6393-4e65-8707-ffe13679fb3d"
      },
      "execution_count": null,
      "outputs": [
        {
          "output_type": "stream",
          "name": "stderr",
          "text": [
            "<ipython-input-113-cfb58bc9c95f>:3: UserWarning: Parsing dates in DD/MM/YYYY format when dayfirst=False (the default) was specified. This may lead to inconsistently parsed dates! Specify a format to ensure consistent parsing.\n",
            "  petr4_df_copy['datetime'] = pd.to_datetime(petr4_df_copy['datetime'])\n"
          ]
        },
        {
          "output_type": "execute_result",
          "data": {
            "text/plain": [
              "          datetime ticker   open  close   high     low      volume\n",
              "209606  16/03/1998  PETR4  276.0  275.0  276.0  273.99  27078933.9\n",
              "209805  17/03/1998  PETR4  275.0  277.0  278.0  274.50  41049029.3\n",
              "210027  18/03/1998  PETR4  277.0  275.5  279.0  275.00  40506405.9\n",
              "210261  19/03/1998  PETR4  275.5  275.5  277.0  272.00  29801256.4\n",
              "210497  20/03/1998  PETR4  277.0  279.0  280.0  276.00  26713421.3"
            ],
            "text/html": [
              "\n",
              "  <div id=\"df-1ba0338e-1e05-4378-afb8-1d6858199afc\" class=\"colab-df-container\">\n",
              "    <div>\n",
              "<style scoped>\n",
              "    .dataframe tbody tr th:only-of-type {\n",
              "        vertical-align: middle;\n",
              "    }\n",
              "\n",
              "    .dataframe tbody tr th {\n",
              "        vertical-align: top;\n",
              "    }\n",
              "\n",
              "    .dataframe thead th {\n",
              "        text-align: right;\n",
              "    }\n",
              "</style>\n",
              "<table border=\"1\" class=\"dataframe\">\n",
              "  <thead>\n",
              "    <tr style=\"text-align: right;\">\n",
              "      <th></th>\n",
              "      <th>datetime</th>\n",
              "      <th>ticker</th>\n",
              "      <th>open</th>\n",
              "      <th>close</th>\n",
              "      <th>high</th>\n",
              "      <th>low</th>\n",
              "      <th>volume</th>\n",
              "    </tr>\n",
              "  </thead>\n",
              "  <tbody>\n",
              "    <tr>\n",
              "      <th>209606</th>\n",
              "      <td>16/03/1998</td>\n",
              "      <td>PETR4</td>\n",
              "      <td>276.0</td>\n",
              "      <td>275.0</td>\n",
              "      <td>276.0</td>\n",
              "      <td>273.99</td>\n",
              "      <td>27078933.9</td>\n",
              "    </tr>\n",
              "    <tr>\n",
              "      <th>209805</th>\n",
              "      <td>17/03/1998</td>\n",
              "      <td>PETR4</td>\n",
              "      <td>275.0</td>\n",
              "      <td>277.0</td>\n",
              "      <td>278.0</td>\n",
              "      <td>274.50</td>\n",
              "      <td>41049029.3</td>\n",
              "    </tr>\n",
              "    <tr>\n",
              "      <th>210027</th>\n",
              "      <td>18/03/1998</td>\n",
              "      <td>PETR4</td>\n",
              "      <td>277.0</td>\n",
              "      <td>275.5</td>\n",
              "      <td>279.0</td>\n",
              "      <td>275.00</td>\n",
              "      <td>40506405.9</td>\n",
              "    </tr>\n",
              "    <tr>\n",
              "      <th>210261</th>\n",
              "      <td>19/03/1998</td>\n",
              "      <td>PETR4</td>\n",
              "      <td>275.5</td>\n",
              "      <td>275.5</td>\n",
              "      <td>277.0</td>\n",
              "      <td>272.00</td>\n",
              "      <td>29801256.4</td>\n",
              "    </tr>\n",
              "    <tr>\n",
              "      <th>210497</th>\n",
              "      <td>20/03/1998</td>\n",
              "      <td>PETR4</td>\n",
              "      <td>277.0</td>\n",
              "      <td>279.0</td>\n",
              "      <td>280.0</td>\n",
              "      <td>276.00</td>\n",
              "      <td>26713421.3</td>\n",
              "    </tr>\n",
              "  </tbody>\n",
              "</table>\n",
              "</div>\n",
              "    <div class=\"colab-df-buttons\">\n",
              "\n",
              "  <div class=\"colab-df-container\">\n",
              "    <button class=\"colab-df-convert\" onclick=\"convertToInteractive('df-1ba0338e-1e05-4378-afb8-1d6858199afc')\"\n",
              "            title=\"Convert this dataframe to an interactive table.\"\n",
              "            style=\"display:none;\">\n",
              "\n",
              "  <svg xmlns=\"http://www.w3.org/2000/svg\" height=\"24px\" viewBox=\"0 -960 960 960\">\n",
              "    <path d=\"M120-120v-720h720v720H120Zm60-500h600v-160H180v160Zm220 220h160v-160H400v160Zm0 220h160v-160H400v160ZM180-400h160v-160H180v160Zm440 0h160v-160H620v160ZM180-180h160v-160H180v160Zm440 0h160v-160H620v160Z\"/>\n",
              "  </svg>\n",
              "    </button>\n",
              "\n",
              "  <style>\n",
              "    .colab-df-container {\n",
              "      display:flex;\n",
              "      gap: 12px;\n",
              "    }\n",
              "\n",
              "    .colab-df-convert {\n",
              "      background-color: #E8F0FE;\n",
              "      border: none;\n",
              "      border-radius: 50%;\n",
              "      cursor: pointer;\n",
              "      display: none;\n",
              "      fill: #1967D2;\n",
              "      height: 32px;\n",
              "      padding: 0 0 0 0;\n",
              "      width: 32px;\n",
              "    }\n",
              "\n",
              "    .colab-df-convert:hover {\n",
              "      background-color: #E2EBFA;\n",
              "      box-shadow: 0px 1px 2px rgba(60, 64, 67, 0.3), 0px 1px 3px 1px rgba(60, 64, 67, 0.15);\n",
              "      fill: #174EA6;\n",
              "    }\n",
              "\n",
              "    .colab-df-buttons div {\n",
              "      margin-bottom: 4px;\n",
              "    }\n",
              "\n",
              "    [theme=dark] .colab-df-convert {\n",
              "      background-color: #3B4455;\n",
              "      fill: #D2E3FC;\n",
              "    }\n",
              "\n",
              "    [theme=dark] .colab-df-convert:hover {\n",
              "      background-color: #434B5C;\n",
              "      box-shadow: 0px 1px 3px 1px rgba(0, 0, 0, 0.15);\n",
              "      filter: drop-shadow(0px 1px 2px rgba(0, 0, 0, 0.3));\n",
              "      fill: #FFFFFF;\n",
              "    }\n",
              "  </style>\n",
              "\n",
              "    <script>\n",
              "      const buttonEl =\n",
              "        document.querySelector('#df-1ba0338e-1e05-4378-afb8-1d6858199afc button.colab-df-convert');\n",
              "      buttonEl.style.display =\n",
              "        google.colab.kernel.accessAllowed ? 'block' : 'none';\n",
              "\n",
              "      async function convertToInteractive(key) {\n",
              "        const element = document.querySelector('#df-1ba0338e-1e05-4378-afb8-1d6858199afc');\n",
              "        const dataTable =\n",
              "          await google.colab.kernel.invokeFunction('convertToInteractive',\n",
              "                                                    [key], {});\n",
              "        if (!dataTable) return;\n",
              "\n",
              "        const docLinkHtml = 'Like what you see? Visit the ' +\n",
              "          '<a target=\"_blank\" href=https://colab.research.google.com/notebooks/data_table.ipynb>data table notebook</a>'\n",
              "          + ' to learn more about interactive tables.';\n",
              "        element.innerHTML = '';\n",
              "        dataTable['output_type'] = 'display_data';\n",
              "        await google.colab.output.renderOutput(dataTable, element);\n",
              "        const docLink = document.createElement('div');\n",
              "        docLink.innerHTML = docLinkHtml;\n",
              "        element.appendChild(docLink);\n",
              "      }\n",
              "    </script>\n",
              "  </div>\n",
              "\n",
              "\n",
              "<div id=\"df-15110e4d-7691-4b41-ab56-af76f2358b51\">\n",
              "  <button class=\"colab-df-quickchart\" onclick=\"quickchart('df-15110e4d-7691-4b41-ab56-af76f2358b51')\"\n",
              "            title=\"Suggest charts.\"\n",
              "            style=\"display:none;\">\n",
              "\n",
              "<svg xmlns=\"http://www.w3.org/2000/svg\" height=\"24px\"viewBox=\"0 0 24 24\"\n",
              "     width=\"24px\">\n",
              "    <g>\n",
              "        <path d=\"M19 3H5c-1.1 0-2 .9-2 2v14c0 1.1.9 2 2 2h14c1.1 0 2-.9 2-2V5c0-1.1-.9-2-2-2zM9 17H7v-7h2v7zm4 0h-2V7h2v10zm4 0h-2v-4h2v4z\"/>\n",
              "    </g>\n",
              "</svg>\n",
              "  </button>\n",
              "\n",
              "<style>\n",
              "  .colab-df-quickchart {\n",
              "      --bg-color: #E8F0FE;\n",
              "      --fill-color: #1967D2;\n",
              "      --hover-bg-color: #E2EBFA;\n",
              "      --hover-fill-color: #174EA6;\n",
              "      --disabled-fill-color: #AAA;\n",
              "      --disabled-bg-color: #DDD;\n",
              "  }\n",
              "\n",
              "  [theme=dark] .colab-df-quickchart {\n",
              "      --bg-color: #3B4455;\n",
              "      --fill-color: #D2E3FC;\n",
              "      --hover-bg-color: #434B5C;\n",
              "      --hover-fill-color: #FFFFFF;\n",
              "      --disabled-bg-color: #3B4455;\n",
              "      --disabled-fill-color: #666;\n",
              "  }\n",
              "\n",
              "  .colab-df-quickchart {\n",
              "    background-color: var(--bg-color);\n",
              "    border: none;\n",
              "    border-radius: 50%;\n",
              "    cursor: pointer;\n",
              "    display: none;\n",
              "    fill: var(--fill-color);\n",
              "    height: 32px;\n",
              "    padding: 0;\n",
              "    width: 32px;\n",
              "  }\n",
              "\n",
              "  .colab-df-quickchart:hover {\n",
              "    background-color: var(--hover-bg-color);\n",
              "    box-shadow: 0 1px 2px rgba(60, 64, 67, 0.3), 0 1px 3px 1px rgba(60, 64, 67, 0.15);\n",
              "    fill: var(--button-hover-fill-color);\n",
              "  }\n",
              "\n",
              "  .colab-df-quickchart-complete:disabled,\n",
              "  .colab-df-quickchart-complete:disabled:hover {\n",
              "    background-color: var(--disabled-bg-color);\n",
              "    fill: var(--disabled-fill-color);\n",
              "    box-shadow: none;\n",
              "  }\n",
              "\n",
              "  .colab-df-spinner {\n",
              "    border: 2px solid var(--fill-color);\n",
              "    border-color: transparent;\n",
              "    border-bottom-color: var(--fill-color);\n",
              "    animation:\n",
              "      spin 1s steps(1) infinite;\n",
              "  }\n",
              "\n",
              "  @keyframes spin {\n",
              "    0% {\n",
              "      border-color: transparent;\n",
              "      border-bottom-color: var(--fill-color);\n",
              "      border-left-color: var(--fill-color);\n",
              "    }\n",
              "    20% {\n",
              "      border-color: transparent;\n",
              "      border-left-color: var(--fill-color);\n",
              "      border-top-color: var(--fill-color);\n",
              "    }\n",
              "    30% {\n",
              "      border-color: transparent;\n",
              "      border-left-color: var(--fill-color);\n",
              "      border-top-color: var(--fill-color);\n",
              "      border-right-color: var(--fill-color);\n",
              "    }\n",
              "    40% {\n",
              "      border-color: transparent;\n",
              "      border-right-color: var(--fill-color);\n",
              "      border-top-color: var(--fill-color);\n",
              "    }\n",
              "    60% {\n",
              "      border-color: transparent;\n",
              "      border-right-color: var(--fill-color);\n",
              "    }\n",
              "    80% {\n",
              "      border-color: transparent;\n",
              "      border-right-color: var(--fill-color);\n",
              "      border-bottom-color: var(--fill-color);\n",
              "    }\n",
              "    90% {\n",
              "      border-color: transparent;\n",
              "      border-bottom-color: var(--fill-color);\n",
              "    }\n",
              "  }\n",
              "</style>\n",
              "\n",
              "  <script>\n",
              "    async function quickchart(key) {\n",
              "      const quickchartButtonEl =\n",
              "        document.querySelector('#' + key + ' button');\n",
              "      quickchartButtonEl.disabled = true;  // To prevent multiple clicks.\n",
              "      quickchartButtonEl.classList.add('colab-df-spinner');\n",
              "      try {\n",
              "        const charts = await google.colab.kernel.invokeFunction(\n",
              "            'suggestCharts', [key], {});\n",
              "      } catch (error) {\n",
              "        console.error('Error during call to suggestCharts:', error);\n",
              "      }\n",
              "      quickchartButtonEl.classList.remove('colab-df-spinner');\n",
              "      quickchartButtonEl.classList.add('colab-df-quickchart-complete');\n",
              "    }\n",
              "    (() => {\n",
              "      let quickchartButtonEl =\n",
              "        document.querySelector('#df-15110e4d-7691-4b41-ab56-af76f2358b51 button');\n",
              "      quickchartButtonEl.style.display =\n",
              "        google.colab.kernel.accessAllowed ? 'block' : 'none';\n",
              "    })();\n",
              "  </script>\n",
              "</div>\n",
              "    </div>\n",
              "  </div>\n"
            ]
          },
          "metadata": {},
          "execution_count": 113
        }
      ]
    },
    {
      "cell_type": "code",
      "source": [
        "data = petr4_df['close']\n",
        "len(data)"
      ],
      "metadata": {
        "colab": {
          "base_uri": "https://localhost:8080/"
        },
        "id": "Jpglabe91_uo",
        "outputId": "a3ade89c-35f2-4856-e670-4ed9a8c35609"
      },
      "execution_count": null,
      "outputs": [
        {
          "output_type": "execute_result",
          "data": {
            "text/plain": [
              "5640"
            ]
          },
          "metadata": {},
          "execution_count": 114
        }
      ]
    },
    {
      "cell_type": "markdown",
      "source": [
        "##Série Temporal"
      ],
      "metadata": {
        "id": "W5b1ACxk2e0e"
      }
    },
    {
      "cell_type": "code",
      "source": [
        "forecasting_period = 5"
      ],
      "metadata": {
        "id": "pTyaoQVi2mBm"
      },
      "execution_count": null,
      "outputs": []
    },
    {
      "cell_type": "code",
      "source": [
        "def df_to_X_y(df):\n",
        "  df = df.to_numpy()\n",
        "  x = []\n",
        "  y = []\n",
        "  for i in range(len(df) - forecasting_period):\n",
        "    row = [[a] for a in df[i:i+5]]\n",
        "    x.append(row)\n",
        "    label = df[i+5]\n",
        "    y.append(label)\n",
        "  return np.array(x), np.array(y)"
      ],
      "metadata": {
        "id": "cu3fM1uq2q93"
      },
      "execution_count": null,
      "outputs": []
    },
    {
      "cell_type": "code",
      "source": [
        "X, y = df_to_X_y(data)\n",
        "X.shape, y.shape"
      ],
      "metadata": {
        "colab": {
          "base_uri": "https://localhost:8080/"
        },
        "id": "OH8quJi52-Sf",
        "outputId": "65650039-9acd-4a7c-bd5f-b5bc14c8b09e"
      },
      "execution_count": null,
      "outputs": [
        {
          "output_type": "execute_result",
          "data": {
            "text/plain": [
              "((5635, 5, 1), (5635,))"
            ]
          },
          "metadata": {},
          "execution_count": 105
        }
      ]
    },
    {
      "cell_type": "code",
      "source": [
        "train_size = round(len(data) * 0.8)\n",
        "test_and_val_size = (len(data) - train_size) / 2\n",
        "train_size, test_and_val_size"
      ],
      "metadata": {
        "id": "oLi4uw7U3Ibn",
        "outputId": "aec02538-ac2b-48ee-9e5e-2b9efcaa228b",
        "colab": {
          "base_uri": "https://localhost:8080/"
        }
      },
      "execution_count": null,
      "outputs": [
        {
          "output_type": "execute_result",
          "data": {
            "text/plain": [
              "(4512, 564.0)"
            ]
          },
          "metadata": {},
          "execution_count": 106
        }
      ]
    },
    {
      "cell_type": "code",
      "source": [
        "X_train, y_train = X[:4512], y[:4512]\n",
        "X_val, y_val = X[4512:5076], y[4512:5076]\n",
        "X_test, y_test = X[5076:], y[5076:]"
      ],
      "metadata": {
        "id": "GqjHCJ8G42vJ"
      },
      "execution_count": null,
      "outputs": []
    },
    {
      "cell_type": "code",
      "source": [
        "X_train.shape, X_val.shape, X_test.shape"
      ],
      "metadata": {
        "colab": {
          "base_uri": "https://localhost:8080/"
        },
        "id": "mVQjatTs47Jv",
        "outputId": "cc1b789a-c87c-4976-b5d7-ec0ff98c07fc"
      },
      "execution_count": null,
      "outputs": [
        {
          "output_type": "execute_result",
          "data": {
            "text/plain": [
              "((4512, 5, 1), (564, 5, 1), (559, 5, 1))"
            ]
          },
          "metadata": {},
          "execution_count": 116
        }
      ]
    },
    {
      "cell_type": "code",
      "source": [
        "y_train.shape, y_val.shape, y_test.shape"
      ],
      "metadata": {
        "colab": {
          "base_uri": "https://localhost:8080/"
        },
        "id": "wv4UKwh54_bH",
        "outputId": "5f7f6c0a-77e9-40b1-ff07-38be4523ba26"
      },
      "execution_count": null,
      "outputs": [
        {
          "output_type": "execute_result",
          "data": {
            "text/plain": [
              "((4512,), (564,), (559,))"
            ]
          },
          "metadata": {},
          "execution_count": 117
        }
      ]
    },
    {
      "cell_type": "code",
      "source": [
        "model = Sequential()\n",
        "model.add(InputLayer(input_shape=(5, 1)))\n",
        "model.add(LSTM(units=64))\n",
        "model.add(Dense(units=8, activation='relu'))\n",
        "model.add(Dense(units=1, activation='linear'))"
      ],
      "metadata": {
        "id": "aQqdeNgV5Cxv"
      },
      "execution_count": null,
      "outputs": []
    },
    {
      "cell_type": "code",
      "source": [
        "model.summary()"
      ],
      "metadata": {
        "colab": {
          "base_uri": "https://localhost:8080/"
        },
        "id": "M87r1kSV5Zz_",
        "outputId": "f8e1f6fc-86fa-456b-994f-bfc854389027"
      },
      "execution_count": null,
      "outputs": [
        {
          "output_type": "stream",
          "name": "stdout",
          "text": [
            "Model: \"sequential\"\n",
            "_________________________________________________________________\n",
            " Layer (type)                Output Shape              Param #   \n",
            "=================================================================\n",
            " lstm (LSTM)                 (None, 64)                16896     \n",
            "                                                                 \n",
            " dense (Dense)               (None, 8)                 520       \n",
            "                                                                 \n",
            " dense_1 (Dense)             (None, 1)                 9         \n",
            "                                                                 \n",
            "=================================================================\n",
            "Total params: 17425 (68.07 KB)\n",
            "Trainable params: 17425 (68.07 KB)\n",
            "Non-trainable params: 0 (0.00 Byte)\n",
            "_________________________________________________________________\n"
          ]
        }
      ]
    },
    {
      "cell_type": "code",
      "source": [
        "model.save('PETR4-LSTM.h5')"
      ],
      "metadata": {
        "colab": {
          "base_uri": "https://localhost:8080/"
        },
        "id": "_GK1O99b8hcR",
        "outputId": "1e87dd71-d9dd-4c71-e142-2d7530455c2c"
      },
      "execution_count": null,
      "outputs": [
        {
          "output_type": "stream",
          "name": "stderr",
          "text": [
            "/usr/local/lib/python3.10/dist-packages/keras/src/engine/training.py:3079: UserWarning: You are saving your model as an HDF5 file via `model.save()`. This file format is considered legacy. We recommend using instead the native Keras format, e.g. `model.save('my_model.keras')`.\n",
            "  saving_api.save_model(\n"
          ]
        }
      ]
    },
    {
      "cell_type": "code",
      "source": [
        "model.compile(loss=MeanSquaredError(), optimizer='adam', metrics=[RootMeanSquaredError()])"
      ],
      "metadata": {
        "id": "s3QkbHhD57tv"
      },
      "execution_count": null,
      "outputs": []
    },
    {
      "cell_type": "code",
      "source": [
        "checkpoint = ModelCheckpoint('model/', save_best_only=True)"
      ],
      "metadata": {
        "id": "cXRExYiX6IGJ"
      },
      "execution_count": null,
      "outputs": []
    },
    {
      "cell_type": "code",
      "source": [
        "model.fit(X_train, y_train, validation_data=(X_val, y_val), epochs=20, callbacks=[checkpoint])"
      ],
      "metadata": {
        "colab": {
          "base_uri": "https://localhost:8080/"
        },
        "id": "FCQBAiWs6Au4",
        "outputId": "f78fdafd-7d97-44b4-fc84-364b21348ff9"
      },
      "execution_count": null,
      "outputs": [
        {
          "output_type": "stream",
          "name": "stdout",
          "text": [
            "Epoch 1/20\n",
            "141/141 [==============================] - 7s 34ms/step - loss: 175.3387 - root_mean_squared_error: 13.2416 - val_loss: 0.6952 - val_root_mean_squared_error: 0.8338\n",
            "Epoch 2/20\n",
            "141/141 [==============================] - 5s 36ms/step - loss: 155.5756 - root_mean_squared_error: 12.4730 - val_loss: 0.3117 - val_root_mean_squared_error: 0.5583\n",
            "Epoch 3/20\n",
            "141/141 [==============================] - 1s 5ms/step - loss: 145.4998 - root_mean_squared_error: 12.0623 - val_loss: 1.5892 - val_root_mean_squared_error: 1.2606\n",
            "Epoch 4/20\n",
            "141/141 [==============================] - 1s 5ms/step - loss: 143.7576 - root_mean_squared_error: 11.9899 - val_loss: 0.3351 - val_root_mean_squared_error: 0.5788\n",
            "Epoch 5/20\n",
            "141/141 [==============================] - 1s 5ms/step - loss: 160.2216 - root_mean_squared_error: 12.6579 - val_loss: 0.5423 - val_root_mean_squared_error: 0.7364\n",
            "Epoch 6/20\n",
            "141/141 [==============================] - 1s 5ms/step - loss: 171.3144 - root_mean_squared_error: 13.0887 - val_loss: 0.7498 - val_root_mean_squared_error: 0.8659\n",
            "Epoch 7/20\n",
            "141/141 [==============================] - 1s 5ms/step - loss: 151.1793 - root_mean_squared_error: 12.2955 - val_loss: 0.8512 - val_root_mean_squared_error: 0.9226\n",
            "Epoch 8/20\n",
            "141/141 [==============================] - 1s 5ms/step - loss: 175.6499 - root_mean_squared_error: 13.2533 - val_loss: 0.8192 - val_root_mean_squared_error: 0.9051\n",
            "Epoch 9/20\n",
            "141/141 [==============================] - 1s 5ms/step - loss: 151.2680 - root_mean_squared_error: 12.2991 - val_loss: 1.4615 - val_root_mean_squared_error: 1.2089\n",
            "Epoch 10/20\n",
            "141/141 [==============================] - 1s 5ms/step - loss: 144.9663 - root_mean_squared_error: 12.0402 - val_loss: 1.7155 - val_root_mean_squared_error: 1.3098\n",
            "Epoch 11/20\n",
            "141/141 [==============================] - 1s 5ms/step - loss: 149.7127 - root_mean_squared_error: 12.2357 - val_loss: 0.4297 - val_root_mean_squared_error: 0.6555\n",
            "Epoch 12/20\n",
            "141/141 [==============================] - 1s 5ms/step - loss: 144.2801 - root_mean_squared_error: 12.0117 - val_loss: 0.3301 - val_root_mean_squared_error: 0.5746\n",
            "Epoch 13/20\n",
            "141/141 [==============================] - 1s 5ms/step - loss: 149.4338 - root_mean_squared_error: 12.2243 - val_loss: 0.4773 - val_root_mean_squared_error: 0.6908\n",
            "Epoch 14/20\n",
            "141/141 [==============================] - 1s 6ms/step - loss: 142.3478 - root_mean_squared_error: 11.9310 - val_loss: 1.2923 - val_root_mean_squared_error: 1.1368\n",
            "Epoch 15/20\n",
            "141/141 [==============================] - 1s 8ms/step - loss: 145.3764 - root_mean_squared_error: 12.0572 - val_loss: 0.9651 - val_root_mean_squared_error: 0.9824\n",
            "Epoch 16/20\n",
            "141/141 [==============================] - 1s 7ms/step - loss: 140.1787 - root_mean_squared_error: 11.8397 - val_loss: 0.3623 - val_root_mean_squared_error: 0.6019\n",
            "Epoch 17/20\n",
            "141/141 [==============================] - 1s 8ms/step - loss: 152.0556 - root_mean_squared_error: 12.3311 - val_loss: 0.7925 - val_root_mean_squared_error: 0.8902\n",
            "Epoch 18/20\n",
            "141/141 [==============================] - 1s 7ms/step - loss: 144.2222 - root_mean_squared_error: 12.0093 - val_loss: 0.8535 - val_root_mean_squared_error: 0.9238\n",
            "Epoch 19/20\n",
            "141/141 [==============================] - 1s 5ms/step - loss: 142.7260 - root_mean_squared_error: 11.9468 - val_loss: 7.7434 - val_root_mean_squared_error: 2.7827\n",
            "Epoch 20/20\n",
            "141/141 [==============================] - 1s 5ms/step - loss: 146.9319 - root_mean_squared_error: 12.1215 - val_loss: 0.8557 - val_root_mean_squared_error: 0.9250\n"
          ]
        },
        {
          "output_type": "execute_result",
          "data": {
            "text/plain": [
              "<keras.src.callbacks.History at 0x7afc6f8a27d0>"
            ]
          },
          "metadata": {},
          "execution_count": 134
        }
      ]
    },
    {
      "cell_type": "code",
      "source": [
        "model = load_model('model/')"
      ],
      "metadata": {
        "id": "TDUMdgAT6Skv"
      },
      "execution_count": null,
      "outputs": []
    },
    {
      "cell_type": "code",
      "source": [
        "predict = model.predict(X_train)"
      ],
      "metadata": {
        "colab": {
          "base_uri": "https://localhost:8080/"
        },
        "id": "lqzq2mNz6VEv",
        "outputId": "5f1563c4-f9e4-41c1-927f-74c71c6b5b52"
      },
      "execution_count": null,
      "outputs": [
        {
          "output_type": "stream",
          "name": "stdout",
          "text": [
            "141/141 [==============================] - 1s 2ms/step\n"
          ]
        }
      ]
    },
    {
      "cell_type": "code",
      "source": [
        "fig = plt.figure(figsize=(10, 6))\n",
        "plt.plot(y_train, label='Valores Reais')\n",
        "plt.plot(predict, label='Previsão')\n",
        "plt.xlabel('Preço das Ações')\n",
        "plt.ylabel('Registro')\n",
        "plt.legend()\n",
        "plt.show()"
      ],
      "metadata": {
        "colab": {
          "base_uri": "https://localhost:8080/",
          "height": 542
        },
        "id": "3A9lYOvZ6X-_",
        "outputId": "939c3241-1eb0-4a35-cdd7-d06100d6f37b"
      },
      "execution_count": null,
      "outputs": [
        {
          "output_type": "display_data",
          "data": {
            "text/plain": [
              "<Figure size 1000x600 with 1 Axes>"
            ],
            "image/png": "[encoded data removed]"
          },
          "metadata": {}
        }
      ]
    },
    {
      "cell_type": "code",
      "source": [
        "test_predict = model.predict(X_test)\n",
        "\n",
        "fig = plt.figure(figsize=(10, 6))\n",
        "plt.plot(y_test, label='Valores Verdadeiros')\n",
        "plt.plot(test_predict, label='Previsão')\n",
        "plt.xlabel('Registro')\n",
        "plt.legend()\n",
        "\n",
        "plt.show()"
      ],
      "metadata": {
        "colab": {
          "base_uri": "https://localhost:8080/",
          "height": 560
        },
        "id": "QGMlm9i06vpw",
        "outputId": "cc343d2f-4a91-4aa9-c9b3-10084a9966b5"
      },
      "execution_count": null,
      "outputs": [
        {
          "output_type": "stream",
          "name": "stdout",
          "text": [
            "18/18 [==============================] - 0s 3ms/step\n"
          ]
        },
        {
          "output_type": "display_data",
          "data": {
            "text/plain": [
              "<Figure size 1000x600 with 1 Axes>"
            ],
            "image/png": "[encoded data removed]"
          },
          "metadata": {}
        }
      ]
    },
    {
      "cell_type": "code",
      "source": [
        "test_predict = model.predict(X_test)\n",
        "rmse = math.sqrt(mean_squared_error(y_test, test_predict))\n",
        "print(f\"RMSE no conjunto de teste: {rmse}\")"
      ],
      "metadata": {
        "colab": {
          "base_uri": "https://localhost:8080/"
        },
        "id": "DWHUN-Kh99ff",
        "outputId": "c3990d22-4aaf-4d7f-82ca-d078db26cdbd"
      },
      "execution_count": null,
      "outputs": [
        {
          "output_type": "stream",
          "name": "stdout",
          "text": [
            "18/18 [==============================] - 0s 2ms/step\n",
            "RMSE no conjunto de teste: 0.7703743981237237\n"
          ]
        }
      ]
    }
  ]
}
